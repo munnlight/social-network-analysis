{
  "nbformat": 4,
  "nbformat_minor": 0,
  "metadata": {
    "colab": {
      "provenance": []
    },
    "kernelspec": {
      "name": "python3",
      "display_name": "Python 3"
    },
    "language_info": {
      "name": "python"
    }
  },
  "cells": [
    {
      "cell_type": "code",
      "execution_count": null,
      "metadata": {
        "id": "M-sFr0hb6etL"
      },
      "outputs": [],
      "source": [
        "import networkx as nx"
      ]
    },
    {
      "cell_type": "code",
      "source": [
        "def compute_pagerank(graph, alpha=0.85, max_iter=100, tol=1.0e-6):\n",
        "  N = len(graph)\n",
        "  pagerank = {node: 1 / N for node in graph}\n",
        "  for _ in range(max_iter):\n",
        "    new_pagerank = {}\n",
        "    for node in graph:\n",
        "      sum_rank = sum(pagerank[neighbor] / len(graph[neighbor]) for neighbor in graph.predecessors(node))\n",
        "      new_pagerank[node] = (1 - alpha) / N + alpha * sum_rank\n",
        "\n",
        "    if sum(abs(new_pagerank[node] - pagerank[node]) for node in graph) < tol:\n",
        "      break\n",
        "\n",
        "    pagerank = new_pagerank\n",
        "\n",
        "  return pagerank"
      ],
      "metadata": {
        "id": "UFEtzctu6nKh"
      },
      "execution_count": null,
      "outputs": []
    },
    {
      "cell_type": "code",
      "source": [
        "G = nx.DiGraph()\n",
        "G.add_edges_from([('A', 'B'), ('A', 'C'), ('B', 'C'), ('C', 'A'), ('C', 'D'), ('D', 'B')])\n",
        "\n",
        "pagerank_scores = compute_pagerank(G)\n",
        "print(\"PageRank Scores\")\n",
        "for node, score in pagerank_scores.items():\n",
        "    print(f\"{node}: {score}\")"
      ],
      "metadata": {
        "colab": {
          "base_uri": "https://localhost:8080/"
        },
        "id": "WGti3V9N8DxV",
        "outputId": "a05d18f4-0a43-47f1-db5b-293d24108d02"
      },
      "execution_count": null,
      "outputs": [
        {
          "output_type": "stream",
          "name": "stdout",
          "text": [
            "PageRank Scores\n",
            "A: 0.18669968700838838\n",
            "B: 0.2755420525956297\n",
            "C: 0.3510585733875935\n",
            "D: 0.18669968700838838\n"
          ]
        }
      ]
    },
    {
      "cell_type": "code",
      "source": [],
      "metadata": {
        "id": "I0AVWVW48bWJ"
      },
      "execution_count": null,
      "outputs": []
    }
  ]
}