{
  "cells": [
    {
      "cell_type": "code",
      "execution_count": null,
      "metadata": {
        "colab": {
          "base_uri": "https://localhost:8080/"
        },
        "id": "fBw3eKN8In5T",
        "outputId": "c64e28b4-5b63-405c-ae34-2041dd070b83"
      },
      "outputs": [
        {
          "name": "stdout",
          "output_type": "stream",
          "text": [
            "Collecting dynetx\n",
            "  Downloading dynetx-0.3.2-py3-none-any.whl.metadata (2.9 kB)\n",
            "Requirement already satisfied: numpy in /usr/local/lib/python3.11/dist-packages (from dynetx) (2.0.2)\n",
            "Requirement already satisfied: future in /usr/local/lib/python3.11/dist-packages (from dynetx) (1.0.0)\n",
            "Requirement already satisfied: tqdm in /usr/local/lib/python3.11/dist-packages (from dynetx) (4.67.1)\n",
            "Requirement already satisfied: networkx in /usr/local/lib/python3.11/dist-packages (from dynetx) (3.4.2)\n",
            "Requirement already satisfied: decorator in /usr/local/lib/python3.11/dist-packages (from dynetx) (4.4.2)\n",
            "Downloading dynetx-0.3.2-py3-none-any.whl (39 kB)\n",
            "Installing collected packages: dynetx\n",
            "Successfully installed dynetx-0.3.2\n"
          ]
        }
      ],
      "source": [
        "# Хэрэгтэй санг суулгах\n",
        "! pip install dynetx"
      ]
    },
    {
      "cell_type": "code",
      "execution_count": null,
      "metadata": {
        "id": "EC4mCmpqJq1d"
      },
      "outputs": [],
      "source": [
        "# сангуудаа импортолж ашиглахад бэлдэнэ\n",
        "import dynetx as dn\n",
        "import networkx as nx\n",
        "import random\n",
        "\n",
        "# Сүлжээг унших функц\n",
        "def read_net(filename):\n",
        "  # Шинэ хоосон граф үүсгэнэ\n",
        "  g = nx.Graph()\n",
        "  # Файлыг уншиж оройнуудаар ирмэгийг үүсгэн g графд нэмнэ\n",
        "  with open(filename) as f:\n",
        "    f.readline()\n",
        "    for l in f:\n",
        "      l = l.split(\",\")\n",
        "      g.add_edge(l[0], l[1])\n",
        "  return g\n",
        "\n",
        "# Динамик граф үүсгэнэ\n",
        "g = dn.DynGraph()"
      ]
    },
    {
      "cell_type": "code",
      "execution_count": null,
      "metadata": {
        "id": "30HvSlVhK0v2"
      },
      "outputs": [],
      "source": [
        "# Хугацаааны 1-9 агшинд файлаас уншилт хийн снапшотуудыг хийнэ\n",
        "for t in range(1, 9):\n",
        "  er = read_net('asoiaf-all-edges.csv')\n",
        "  g.add_interactions_from(er.edges, t=t)\n"
      ]
    },
    {
      "cell_type": "code",
      "execution_count": null,
      "metadata": {
        "colab": {
          "background_save": true,
          "base_uri": "https://localhost:8080/"
        },
        "id": "UofwHJW_LLYO",
        "outputId": "9c265b49-309b-449b-e488-cd4792429201"
      },
      "outputs": [
        {
          "data": {
            "text/plain": [
              "[1, 2, 3, 4, 5, 6, 7, 8]"
            ]
          },
          "execution_count": 25,
          "metadata": {},
          "output_type": "execute_result"
        }
      ],
      "source": [
        "# Снапшотуудын id-г авна\n",
        "g.temporal_snapshots_ids()"
      ]
    },
    {
      "cell_type": "code",
      "execution_count": null,
      "metadata": {
        "colab": {
          "base_uri": "https://localhost:8080/"
        },
        "id": "_xWzjW0j0Vgu",
        "outputId": "be71af42-555c-48f1-e434-b71081a35515"
      },
      "outputs": [
        {
          "name": "stdout",
          "output_type": "stream",
          "text": [
            "Drive already mounted at /content/drive; to attempt to forcibly remount, call drive.mount(\"/content/drive\", force_remount=True).\n"
          ]
        }
      ],
      "source": [
        "from google.colab import drive\n",
        "drive.mount('/content/drive')"
      ]
    },
    {
      "cell_type": "code",
      "execution_count": null,
      "metadata": {
        "colab": {
          "background_save": true,
          "base_uri": "https://localhost:8080/"
        },
        "id": "Q67V4FRtLPFW",
        "outputId": "485e0f04-f0f0-46d9-eb53-830a6c63f7cb"
      },
      "outputs": [
        {
          "data": {
            "text/plain": [
              "(dynetx.classes.dyngraph.DynGraph, 796, 2823)"
            ]
          },
          "execution_count": 26,
          "metadata": {},
          "output_type": "execute_result"
        }
      ],
      "source": [
        "# Хугацааны 1 агшин дахь графыг авна\n",
        "g1 = g.time_slice(1)\n",
        "type(g1), g1.number_of_nodes(), g1.number_of_edges()"
      ]
    },
    {
      "cell_type": "code",
      "execution_count": null,
      "metadata": {
        "colab": {
          "background_save": true,
          "base_uri": "https://localhost:8080/"
        },
        "id": "EZ9VfOgnLTvI",
        "outputId": "4046223d-e5c4-489d-e396-14b4a888eed3"
      },
      "outputs": [
        {
          "data": {
            "text/plain": [
              "(dynetx.classes.dyngraph.DynGraph, 796, 2823, {1: 1411.5, 2: 1411.5})"
            ]
          },
          "execution_count": 27,
          "metadata": {},
          "output_type": "execute_result"
        }
      ],
      "source": [
        "# Хугацааны 0-с 3 хүртэлх хугацаан дахь графын утгуудыг авна\n",
        "g0_3 = g.time_slice(0, 3)\n",
        "type(g0_3), g0_3.number_of_nodes(), g0_3.number_of_edges(), g0_3.interactions_per_snapshots()"
      ]
    },
    {
      "cell_type": "code",
      "execution_count": null,
      "metadata": {
        "colab": {
          "background_save": true
        },
        "id": "i1UG6Jh7Lvzk"
      },
      "outputs": [],
      "source": [
        "# Динамик графыг статик графикд хувиргана\n",
        "g1_flat = nx.Graph(g1.edges())"
      ]
    },
    {
      "cell_type": "code",
      "execution_count": null,
      "metadata": {
        "colab": {
          "background_save": true,
          "base_uri": "https://localhost:8080/"
        },
        "id": "qBxA0SI2MoJQ",
        "outputId": "81b71064-b0ab-44b0-86cb-442f56569562"
      },
      "outputs": [
        {
          "data": {
            "text/plain": [
              "(networkx.classes.graph.Graph, 796, 2823)"
            ]
          },
          "execution_count": 29,
          "metadata": {},
          "output_type": "execute_result"
        }
      ],
      "source": [
        "# Статик графын хэмжигдэхүүнүүдийг харуулах даа доорхуудыг хэрэглэж болно\n",
        "type(g1_flat), g1_flat.number_of_nodes(), g1_flat.number_of_edges()"
      ]
    },
    {
      "cell_type": "code",
      "execution_count": null,
      "metadata": {
        "colab": {
          "background_save": true,
          "base_uri": "https://localhost:8080/"
        },
        "id": "fZgMsAMJMrC6",
        "outputId": "5161e19e-5e1c-41e4-96c0-32c4954481e5"
      },
      "outputs": [
        {
          "name": "stdout",
          "output_type": "stream",
          "text": [
            "Number interecations: temporal distance\t{0: 5644, 8: 1}\n"
          ]
        }
      ],
      "source": [
        "# Дотоод тархалтыг судлахад хэрэглэнэ. Хугацааны 0 агшинд 5644 харилцан үйлчлэл байсан бол\n",
        "# Хугацааны дараагийн 8 агшны интервалд 1 харилцан үйлчлэл байна.\n",
        "r = g.inter_event_time_distribution()\n",
        "print(f'Number interecations: temporal distance\\t{r}')"
      ]
    },
    {
      "cell_type": "code",
      "execution_count": null,
      "metadata": {
        "colab": {
          "background_save": true,
          "base_uri": "https://localhost:8080/"
        },
        "id": "gKfSxr8BM65N",
        "outputId": "bf63984e-ba4a-453f-d915-0159d3bd5289"
      },
      "outputs": [
        {
          "name": "stdout",
          "output_type": "stream",
          "text": [
            "Number interactions: {0: 166, 8: 1}\n"
          ]
        }
      ],
      "source": [
        "# Нэг оройг онцлон тухайн оройн харилцан үйлчлэлийн тархалтыг судална\n",
        "r = g.inter_event_time_distribution(\"Arya-Stark\")\n",
        "print(f'Number interactions: {r}')"
      ]
    },
    {
      "cell_type": "code",
      "execution_count": null,
      "metadata": {
        "colab": {
          "base_uri": "https://localhost:8080/"
        },
        "id": "g-6ZOIjCNYy2",
        "outputId": "19753c78-6135-4ed9-d8cc-71c6ae12c27e"
      },
      "outputs": [
        {
          "name": "stdout",
          "output_type": "stream",
          "text": [
            "Number interactions: {7: 1}\n"
          ]
        }
      ],
      "source": [
        "# 2 оройн харилцан үйлчлэлийн тархалтыг судалж болно. Оройнуудын нэрийг параметрээр өгнө\n",
        "u = \"Cersei-Lannister\"\n",
        "v = 'Jaime-Lannister'\n",
        "\n",
        "r = g.inter_event_time_distribution(u, v)\n",
        "print(f'Number interactions: {r}')"
      ]
    },
    {
      "cell_type": "code",
      "execution_count": null,
      "metadata": {
        "colab": {
          "base_uri": "https://localhost:8080/"
        },
        "id": "unHvJy1kOKiD",
        "outputId": "6b3bb848-e9e3-4be7-aad9-380158982807"
      },
      "outputs": [
        {
          "data": {
            "text/plain": [
              "84"
            ]
          },
          "execution_count": 22,
          "metadata": {},
          "output_type": "execute_result"
        }
      ],
      "source": [
        "# Хугацааны 2 агшин дахь заасан оройн зэргийг харуулна\n",
        "g.degree(t=2)['Arya-Stark']"
      ]
    },
    {
      "cell_type": "code",
      "execution_count": null,
      "metadata": {
        "colab": {
          "base_uri": "https://localhost:8080/"
        },
        "id": "dD89iG7vOv2v",
        "outputId": "bf4fbd7d-b64c-408b-81fa-cab338826310"
      },
      "outputs": [
        {
          "data": {
            "text/plain": [
              "1.0"
            ]
          },
          "execution_count": 24,
          "metadata": {},
          "output_type": "execute_result"
        }
      ],
      "source": [
        "# g графын тархалт\n",
        "g.coverage()"
      ]
    },
    {
      "cell_type": "code",
      "execution_count": null,
      "metadata": {
        "colab": {
          "base_uri": "https://localhost:8080/"
        },
        "id": "l_2Clp2ROzjG",
        "outputId": "38967fd1-4d91-4395-edc8-b978531ecf5b"
      },
      "outputs": [
        {
          "data": {
            "text/plain": [
              "1.0"
            ]
          },
          "execution_count": 20,
          "metadata": {},
          "output_type": "execute_result"
        }
      ],
      "source": [
        "# Harwin-ий оройгийн тархалт\n",
        "g.node_contribution('Harwin')"
      ]
    },
    {
      "cell_type": "code",
      "execution_count": null,
      "metadata": {
        "colab": {
          "base_uri": "https://localhost:8080/"
        },
        "id": "bKS_-E7tO2og",
        "outputId": "5bc23939-5004-4be4-dbce-f7389bd371f2"
      },
      "outputs": [
        {
          "data": {
            "text/plain": [
              "1.0"
            ]
          },
          "execution_count": 30,
          "metadata": {},
          "output_type": "execute_result"
        }
      ],
      "source": [
        "g.edge_contribution(u, v)"
      ]
    },
    {
      "cell_type": "code",
      "execution_count": null,
      "metadata": {
        "colab": {
          "base_uri": "https://localhost:8080/"
        },
        "id": "xFOZlwFpPD5g",
        "outputId": "84fe7629-9d1c-4d41-f841-d01ca041d248"
      },
      "outputs": [
        {
          "data": {
            "text/plain": [
              "1.0"
            ]
          },
          "execution_count": 31,
          "metadata": {},
          "output_type": "execute_result"
        }
      ],
      "source": [
        "g.node_pair_uniformity(u, v)"
      ]
    },
    {
      "cell_type": "code",
      "execution_count": null,
      "metadata": {
        "colab": {
          "base_uri": "https://localhost:8080/"
        },
        "id": "DoKXDBSuPJwO",
        "outputId": "2042aa5a-9c13-40a7-fa2e-02024c0af973"
      },
      "outputs": [
        {
          "data": {
            "text/plain": [
              "0.008921968332227173"
            ]
          },
          "execution_count": 32,
          "metadata": {},
          "output_type": "execute_result"
        }
      ],
      "source": [
        "g.density()"
      ]
    },
    {
      "cell_type": "code",
      "execution_count": null,
      "metadata": {
        "colab": {
          "base_uri": "https://localhost:8080/"
        },
        "id": "3cDt5v2nPLk_",
        "outputId": "46cd31bb-2635-47e9-9408-2041cf8130d5"
      },
      "outputs": [
        {
          "data": {
            "text/plain": [
              "0.12185929648241206"
            ]
          },
          "execution_count": 34,
          "metadata": {},
          "output_type": "execute_result"
        }
      ],
      "source": [
        "g.node_density(u)"
      ]
    },
    {
      "cell_type": "code",
      "execution_count": null,
      "metadata": {
        "colab": {
          "base_uri": "https://localhost:8080/"
        },
        "id": "uIBHw7azPPGY",
        "outputId": "d59499b6-0869-4975-8093-92fea3675ccf"
      },
      "outputs": [
        {
          "data": {
            "text/plain": [
              "1.0"
            ]
          },
          "execution_count": 35,
          "metadata": {},
          "output_type": "execute_result"
        }
      ],
      "source": [
        "g.pair_density(u, v)"
      ]
    },
    {
      "cell_type": "code",
      "execution_count": null,
      "metadata": {
        "colab": {
          "base_uri": "https://localhost:8080/"
        },
        "id": "lyoN7y2RPU1P",
        "outputId": "f3d67842-b38b-4302-a70c-afce4af7255b"
      },
      "outputs": [
        {
          "name": "stdout",
          "output_type": "stream",
          "text": [
            "1\t0.008921968332227173\n",
            "2\t0.008921968332227173\n",
            "3\t0.008921968332227173\n",
            "4\t0.008921968332227173\n",
            "5\t0.008921968332227173\n",
            "6\t0.008921968332227173\n",
            "7\t0.008921968332227173\n",
            "8\t0.008921968332227173\n"
          ]
        }
      ],
      "source": [
        "for t in g.temporal_snapshots_ids():\n",
        "  print(f'{t}\\t{g.snapshot_density(t)}')"
      ]
    },
    {
      "cell_type": "code",
      "execution_count": null,
      "metadata": {
        "id": "WH7tx2OjPl4W"
      },
      "outputs": [],
      "source": [
        "import dynetx.algorithms as al\n",
        "paths = al.time_respecting_paths(g, \"Gendry\", 'Grey-Worm', start = 1, end = 5)"
      ]
    },
    {
      "cell_type": "code",
      "execution_count": null,
      "metadata": {
        "id": "CWX9TngYP6Pk"
      },
      "outputs": [],
      "source": [
        "p = paths[0]\n",
        "p"
      ]
    },
    {
      "cell_type": "code",
      "execution_count": null,
      "metadata": {
        "id": "lMMNLORiQFPN"
      },
      "outputs": [],
      "source": []
    }
  ],
  "metadata": {
    "colab": {
      "provenance": []
    },
    "kernelspec": {
      "display_name": "Python 3",
      "name": "python3"
    },
    "language_info": {
      "name": "python"
    }
  },
  "nbformat": 4,
  "nbformat_minor": 0
}